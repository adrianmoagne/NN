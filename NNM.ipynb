{
 "cells": [
  {
   "cell_type": "code",
   "execution_count": 1,
   "id": "cc2404c8",
   "metadata": {},
   "outputs": [],
   "source": [
    "import numpy as np"
   ]
  },
  {
   "cell_type": "code",
   "execution_count": 2,
   "id": "5805a922",
   "metadata": {},
   "outputs": [],
   "source": [
    "f = open('Iris.csv', 'r')\n",
    "lines = f.readlines()"
   ]
  },
  {
   "cell_type": "code",
   "execution_count": 3,
   "id": "6ec865ac",
   "metadata": {},
   "outputs": [],
   "source": [
    "cats = ['Iris-setosa' ,'Iris-versicolor','Iris-virginica']\n",
    "X = list()\n",
    "Y = list()\n",
    "for line in lines[1:]:\n",
    "    _,sl,sw,pl,pw,sp = line[:-1].split(',')\n",
    "    sl = float(sl)\n",
    "    sw = float(sw)\n",
    "    pl = float(pl)\n",
    "    pw = float(pw)\n",
    "    sp = [1.0 if sp == cat else 0.0 for cat in cats]\n",
    "    X.append([sl,sw,pl,pw])\n",
    "    Y.append(sp)"
   ]
  },
  {
   "cell_type": "code",
   "execution_count": 4,
   "id": "d503c9d4",
   "metadata": {},
   "outputs": [],
   "source": [
    "total = len(X)\n",
    "indexes = list(range(total))\n",
    "np.random.shuffle(indexes)\n",
    "Xs = [X[i] for i in indexes]\n",
    "Ys = [Y[i] for i in indexes]"
   ]
  },
  {
   "cell_type": "code",
   "execution_count": 5,
   "id": "e820cd63",
   "metadata": {},
   "outputs": [],
   "source": [
    "Xs = np.array(Xs)\n",
    "Ys = np.array(Ys)"
   ]
  },
  {
   "cell_type": "code",
   "execution_count": 6,
   "id": "b7291a07",
   "metadata": {},
   "outputs": [],
   "source": [
    "sep = int(total * 0.1)\n",
    "total_test = sep\n",
    "total_train = total - sep\n",
    "\n",
    "Xtrain = Xs[:total_train,:]\n",
    "Ytrain = Ys[:total_train,:]\n",
    "\n",
    "Xtest = Xs[total_train:,:]\n",
    "Ytest = Ys[total_train:,:]"
   ]
  },
  {
   "cell_type": "code",
   "execution_count": 7,
   "id": "9a0f407a",
   "metadata": {},
   "outputs": [],
   "source": [
    "def sigmoid(x):\n",
    "    return 1.0 / (1.0 + np.exp(-x))\n",
    "\n",
    "class Perceptron:\n",
    "    def __init__(self):\n",
    "        self.Wh = np.random.random((8,4)) * 2.0 - 1.0\n",
    "        self.bh = np.random.random((8,1)) * 2.0 - 1.0\n",
    "        self.Wo = np.random.random((3,8)) * 2.0 - 1.0\n",
    "        self.bo = np.random.random((3,1)) * 2.0 - 1.0\n",
    "        self.eta = 0.01\n",
    "    \n",
    "    def forward(self,x):\n",
    "        x = np.reshape(x,(4,1))\n",
    "        self.sh = np.dot(self.Wh,x) + self.bh\n",
    "        self.zh = sigmoid(self.sh)\n",
    "        self.so = np.dot(self.Wo,self.zh) + self.bo\n",
    "        self.zo = sigmoid(self.so)\n",
    "        return self.zo\n",
    "    \n",
    "    def backprop(self,X,Y):\n",
    "        Err = 0.0\n",
    "        total = X.shape[0]\n",
    "        for i in range(total):\n",
    "            x = X[i,:]\n",
    "            x = np.reshape(x,(4,1))\n",
    "            y_hat = Y[i,:]\n",
    "            y_hat = np.reshape(y_hat,(3,1))\n",
    "            y = self.forward(x)\n",
    "            err = (np.sum((y - y_hat) ** 2)) / 2.0\n",
    "            Err+= err\n",
    "            \n",
    "            self.delta_output = (y - y_hat) * self.zo * (1 - self.zo)\n",
    "            self.delta_hidden = np.dot(self.Wo.T,self.delta_output) * self.zh * (1 - self.zh)\n",
    "            \n",
    "            self.Wo -= self.eta * np.dot(self.delta_output, self.zh.T)\n",
    "            self.bo -= self.eta * self.delta_output\n",
    "            \n",
    "            self.Wh -= self.eta * np.dot(self.delta_hidden, x.T)\n",
    "            self.bh -= self.eta * self.delta_hidden\n",
    "    \n",
    "        Err /= total\n",
    "        return Err"
   ]
  },
  {
   "cell_type": "code",
   "execution_count": 9,
   "id": "5959894b",
   "metadata": {},
   "outputs": [
    {
     "name": "stdout",
     "output_type": "stream",
     "text": [
      "Err = 0.44309991375517943\n",
      "Err = 0.02553468785177147\n",
      "Err = 0.020087617882265728\n",
      "Err = 0.018230785969027143\n",
      "Err = 0.017216968840409564\n",
      "Err = 0.016560402468204956\n",
      "Err = 0.016088577275495643\n",
      "Err = 0.015722256473539573\n",
      "Err = 0.015420299268995975\n",
      "Err = 0.015159567708240401\n"
     ]
    }
   ],
   "source": [
    "p = Perceptron()\n",
    "Err = list()\n",
    "for i in range(10000):\n",
    "    Err.append(p.backprop(Xtrain,Ytrain))\n",
    "    if not (i % 1000) or i == 0:\n",
    "        print('Err =' ,Err[-1])"
   ]
  },
  {
   "cell_type": "code",
   "execution_count": 10,
   "id": "ececaa64",
   "metadata": {},
   "outputs": [],
   "source": [
    "Err = np.array(Err)\n",
    "from matplotlib import pyplot as plt"
   ]
  },
  {
   "cell_type": "code",
   "execution_count": 11,
   "id": "b24c5f0f",
   "metadata": {},
   "outputs": [
    {
     "data": {
      "text/plain": [
       "[<matplotlib.lines.Line2D at 0x7f960cc04cd0>]"
      ]
     },
     "execution_count": 11,
     "metadata": {},
     "output_type": "execute_result"
    },
    {
     "data": {
      "image/png": "[encoded data removed]",
      "text/plain": [
       "<Figure size 432x288 with 1 Axes>"
      ]
     },
     "metadata": {
      "needs_background": "light"
     },
     "output_type": "display_data"
    }
   ],
   "source": [
    "plt.plot(Err)"
   ]
  },
  {
   "cell_type": "code",
   "execution_count": 15,
   "id": "8df0e4c0",
   "metadata": {},
   "outputs": [
    {
     "name": "stdout",
     "output_type": "stream",
     "text": [
      "[+0.00  +0.00  +1.00 ] [+0.00  +0.05  +0.98 ]\n",
      "[+0.00  +0.00  +1.00 ] [+0.00  +0.03  +0.99 ]\n",
      "[+1.00  +0.00  +0.00 ] [+0.98  +0.02  +0.00 ]\n",
      "[+1.00  +0.00  +0.00 ] [+0.98  +0.02  +0.00 ]\n",
      "[+0.00  +0.00  +1.00 ] [+0.00  +0.05  +0.94 ]\n",
      "[+0.00  +0.00  +1.00 ] [+0.00  +0.03  +0.99 ]\n",
      "[+0.00  +1.00  +0.00 ] [+0.02  +0.99  +0.00 ]\n",
      "[+0.00  +1.00  +0.00 ] [+0.02  +0.99  +0.00 ]\n",
      "[+1.00  +0.00  +0.00 ] [+0.98  +0.02  +0.00 ]\n",
      "[+0.00  +0.00  +1.00 ] [+0.00  +0.05  +0.96 ]\n",
      "[+0.00  +0.00  +1.00 ] [+0.00  +0.38  +0.61 ]\n",
      "[+1.00  +0.00  +0.00 ] [+0.98  +0.02  +0.00 ]\n",
      "[+0.00  +0.00  +1.00 ] [+0.00  +0.02  +0.99 ]\n",
      "[+0.00  +0.00  +1.00 ] [+0.00  +0.39  +0.61 ]\n",
      "[+0.00  +1.00  +0.00 ] [+0.02  +0.99  +0.00 ]\n"
     ]
    }
   ],
   "source": [
    "np.set_printoptions(formatter={'float':lambda x: '%+01.2f ' % x})\n",
    "\n",
    "for i in range(total_test):\n",
    "    y = p.forward(Xtest[i,:])\n",
    "    y_hat = Ytest[i,:]\n",
    "    print(y_hat, y.T[0])"
   ]
  },
  {
   "cell_type": "code",
   "execution_count": null,
   "id": "85f6a0fd",
   "metadata": {},
   "outputs": [],
   "source": []
  }
 ],
 "metadata": {
  "kernelspec": {
   "display_name": "Python 3 (ipykernel)",
   "language": "python",
   "name": "python3"
  },
  "language_info": {
   "codemirror_mode": {
    "name": "ipython",
    "version": 3
   },
   "file_extension": ".py",
   "mimetype": "text/x-python",
   "name": "python",
   "nbconvert_exporter": "python",
   "pygments_lexer": "ipython3",
   "version": "3.8.10"
  }
 },
 "nbformat": 4,
 "nbformat_minor": 5
}
